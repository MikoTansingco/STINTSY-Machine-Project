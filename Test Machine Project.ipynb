{
 "cells": [
  {
   "cell_type": "code",
   "execution_count": 1,
   "metadata": {},
   "outputs": [],
   "source": [
    "import warnings\n",
    "warnings.filterwarnings('ignore')\n",
    "\n",
    "import numpy as np \n",
    "import pandas as pd\n",
    "import matplotlib.pyplot as plt\n",
    "\n",
    "from keras.preprocessing.image import ImageDataGenerator\n",
    "from tensorflow.keras.utils import img_to_array\n",
    "from tensorflow.keras.utils import load_img\n",
    "\n",
    "import cv2\n",
    "\n",
    "from keras.applications import inception_v3\n",
    "from keras.applications.inception_v3 import InceptionV3\n",
    "from keras.applications.inception_v3 import preprocess_input as inception_v3_preprocessor\n",
    "\n",
    "from keras.layers import Dense, GlobalAveragePooling2D\n",
    "from keras.models import Model\n",
    "\n",
    "from keras.optimizers import Adam\n",
    "from keras.metrics import categorical_crossentropy\n",
    "\n",
    "from sklearn.model_selection import train_test_split\n",
    "\n",
    "from tqdm import tqdm\n",
    "\n",
    "from os import makedirs\n",
    "from os.path import expanduser, exists, join\n",
    "\n",
    "from sklearn import preprocessing\n",
    "from tensorflow.keras.applications.resnet_v2 import ResNet50V2, preprocess_input"
   ]
  },
  {
   "cell_type": "code",
   "execution_count": 2,
   "metadata": {},
   "outputs": [],
   "source": [
    "train_dogs = pd.read_csv('labels.csv')"
   ]
  },
  {
   "cell_type": "code",
   "execution_count": 3,
   "metadata": {},
   "outputs": [],
   "source": [
    "train_folder = 'train/'"
   ]
  },
  {
   "cell_type": "code",
   "execution_count": 4,
   "metadata": {},
   "outputs": [
    {
     "data": {
      "text/html": [
       "<div>\n",
       "<style scoped>\n",
       "    .dataframe tbody tr th:only-of-type {\n",
       "        vertical-align: middle;\n",
       "    }\n",
       "\n",
       "    .dataframe tbody tr th {\n",
       "        vertical-align: top;\n",
       "    }\n",
       "\n",
       "    .dataframe thead th {\n",
       "        text-align: right;\n",
       "    }\n",
       "</style>\n",
       "<table border=\"1\" class=\"dataframe\">\n",
       "  <thead>\n",
       "    <tr style=\"text-align: right;\">\n",
       "      <th></th>\n",
       "      <th>id</th>\n",
       "      <th>breed</th>\n",
       "    </tr>\n",
       "  </thead>\n",
       "  <tbody>\n",
       "    <tr>\n",
       "      <td>8</td>\n",
       "      <td>003df8b8a8b05244b1d920bb6cf451f9</td>\n",
       "      <td>basenji</td>\n",
       "    </tr>\n",
       "    <tr>\n",
       "      <td>201</td>\n",
       "      <td>04b5834c3a969c6308ce157c547bb313</td>\n",
       "      <td>basenji</td>\n",
       "    </tr>\n",
       "    <tr>\n",
       "      <td>287</td>\n",
       "      <td>06faa041b335551e3ccf3c239d006425</td>\n",
       "      <td>basenji</td>\n",
       "    </tr>\n",
       "    <tr>\n",
       "      <td>301</td>\n",
       "      <td>073f0821a0842917e6e97ab322bd63f2</td>\n",
       "      <td>basenji</td>\n",
       "    </tr>\n",
       "    <tr>\n",
       "      <td>397</td>\n",
       "      <td>0990fe6be15d9d556eac8712db3c8094</td>\n",
       "      <td>basenji</td>\n",
       "    </tr>\n",
       "    <tr>\n",
       "      <td>...</td>\n",
       "      <td>...</td>\n",
       "      <td>...</td>\n",
       "    </tr>\n",
       "    <tr>\n",
       "      <td>9669</td>\n",
       "      <td>f375e6363bc21dcd3cb65637c7855e9c</td>\n",
       "      <td>silky_terrier</td>\n",
       "    </tr>\n",
       "    <tr>\n",
       "      <td>9708</td>\n",
       "      <td>f42afcc1fabac064a07c6a5b7ae2766e</td>\n",
       "      <td>silky_terrier</td>\n",
       "    </tr>\n",
       "    <tr>\n",
       "      <td>9904</td>\n",
       "      <td>f8d48f89aaa55962d4beb853a128eac7</td>\n",
       "      <td>silky_terrier</td>\n",
       "    </tr>\n",
       "    <tr>\n",
       "      <td>9961</td>\n",
       "      <td>fa26802c7a0ff2fc7dcabb9999a6c4b3</td>\n",
       "      <td>silky_terrier</td>\n",
       "    </tr>\n",
       "    <tr>\n",
       "      <td>10133</td>\n",
       "      <td>fdc0556f9b32a714b56985eb99fbbbeb</td>\n",
       "      <td>silky_terrier</td>\n",
       "    </tr>\n",
       "  </tbody>\n",
       "</table>\n",
       "<p>3587 rows × 2 columns</p>\n",
       "</div>"
      ],
      "text/plain": [
       "                                     id          breed\n",
       "8      003df8b8a8b05244b1d920bb6cf451f9        basenji\n",
       "201    04b5834c3a969c6308ce157c547bb313        basenji\n",
       "287    06faa041b335551e3ccf3c239d006425        basenji\n",
       "301    073f0821a0842917e6e97ab322bd63f2        basenji\n",
       "397    0990fe6be15d9d556eac8712db3c8094        basenji\n",
       "...                                 ...            ...\n",
       "9669   f375e6363bc21dcd3cb65637c7855e9c  silky_terrier\n",
       "9708   f42afcc1fabac064a07c6a5b7ae2766e  silky_terrier\n",
       "9904   f8d48f89aaa55962d4beb853a128eac7  silky_terrier\n",
       "9961   fa26802c7a0ff2fc7dcabb9999a6c4b3  silky_terrier\n",
       "10133  fdc0556f9b32a714b56985eb99fbbbeb  silky_terrier\n",
       "\n",
       "[3587 rows x 2 columns]"
      ]
     },
     "execution_count": 4,
     "metadata": {},
     "output_type": "execute_result"
    }
   ],
   "source": [
    "new_data = pd.DataFrame()\n",
    "for i in train_dogs['breed'].unique():\n",
    "    length = len(train_dogs[train_dogs['breed'] == i])\n",
    "    if length >= 90:\n",
    "        new_data = new_data.append(train_dogs[train_dogs['breed'] == i])\n",
    "new_data"
   ]
  },
  {
   "cell_type": "code",
   "execution_count": 5,
   "metadata": {},
   "outputs": [
    {
     "data": {
      "text/html": [
       "<div>\n",
       "<style scoped>\n",
       "    .dataframe tbody tr th:only-of-type {\n",
       "        vertical-align: middle;\n",
       "    }\n",
       "\n",
       "    .dataframe tbody tr th {\n",
       "        vertical-align: top;\n",
       "    }\n",
       "\n",
       "    .dataframe thead th {\n",
       "        text-align: right;\n",
       "    }\n",
       "</style>\n",
       "<table border=\"1\" class=\"dataframe\">\n",
       "  <thead>\n",
       "    <tr style=\"text-align: right;\">\n",
       "      <th></th>\n",
       "      <th>id</th>\n",
       "      <th>breed</th>\n",
       "    </tr>\n",
       "  </thead>\n",
       "  <tbody>\n",
       "    <tr>\n",
       "      <td>8</td>\n",
       "      <td>003df8b8a8b05244b1d920bb6cf451f9</td>\n",
       "      <td>basenji</td>\n",
       "    </tr>\n",
       "    <tr>\n",
       "      <td>201</td>\n",
       "      <td>04b5834c3a969c6308ce157c547bb313</td>\n",
       "      <td>basenji</td>\n",
       "    </tr>\n",
       "    <tr>\n",
       "      <td>287</td>\n",
       "      <td>06faa041b335551e3ccf3c239d006425</td>\n",
       "      <td>basenji</td>\n",
       "    </tr>\n",
       "    <tr>\n",
       "      <td>301</td>\n",
       "      <td>073f0821a0842917e6e97ab322bd63f2</td>\n",
       "      <td>basenji</td>\n",
       "    </tr>\n",
       "    <tr>\n",
       "      <td>397</td>\n",
       "      <td>0990fe6be15d9d556eac8712db3c8094</td>\n",
       "      <td>basenji</td>\n",
       "    </tr>\n",
       "    <tr>\n",
       "      <td>...</td>\n",
       "      <td>...</td>\n",
       "      <td>...</td>\n",
       "    </tr>\n",
       "    <tr>\n",
       "      <td>9669</td>\n",
       "      <td>f375e6363bc21dcd3cb65637c7855e9c</td>\n",
       "      <td>silky_terrier</td>\n",
       "    </tr>\n",
       "    <tr>\n",
       "      <td>9708</td>\n",
       "      <td>f42afcc1fabac064a07c6a5b7ae2766e</td>\n",
       "      <td>silky_terrier</td>\n",
       "    </tr>\n",
       "    <tr>\n",
       "      <td>9904</td>\n",
       "      <td>f8d48f89aaa55962d4beb853a128eac7</td>\n",
       "      <td>silky_terrier</td>\n",
       "    </tr>\n",
       "    <tr>\n",
       "      <td>9961</td>\n",
       "      <td>fa26802c7a0ff2fc7dcabb9999a6c4b3</td>\n",
       "      <td>silky_terrier</td>\n",
       "    </tr>\n",
       "    <tr>\n",
       "      <td>10133</td>\n",
       "      <td>fdc0556f9b32a714b56985eb99fbbbeb</td>\n",
       "      <td>silky_terrier</td>\n",
       "    </tr>\n",
       "  </tbody>\n",
       "</table>\n",
       "<p>3587 rows × 2 columns</p>\n",
       "</div>"
      ],
      "text/plain": [
       "                                     id          breed\n",
       "8      003df8b8a8b05244b1d920bb6cf451f9        basenji\n",
       "201    04b5834c3a969c6308ce157c547bb313        basenji\n",
       "287    06faa041b335551e3ccf3c239d006425        basenji\n",
       "301    073f0821a0842917e6e97ab322bd63f2        basenji\n",
       "397    0990fe6be15d9d556eac8712db3c8094        basenji\n",
       "...                                 ...            ...\n",
       "9669   f375e6363bc21dcd3cb65637c7855e9c  silky_terrier\n",
       "9708   f42afcc1fabac064a07c6a5b7ae2766e  silky_terrier\n",
       "9904   f8d48f89aaa55962d4beb853a128eac7  silky_terrier\n",
       "9961   fa26802c7a0ff2fc7dcabb9999a6c4b3  silky_terrier\n",
       "10133  fdc0556f9b32a714b56985eb99fbbbeb  silky_terrier\n",
       "\n",
       "[3587 rows x 2 columns]"
      ]
     },
     "execution_count": 5,
     "metadata": {},
     "output_type": "execute_result"
    }
   ],
   "source": [
    "train_dogs = new_data\n",
    "train_dogs"
   ]
  },
  {
   "cell_type": "code",
   "execution_count": 6,
   "metadata": {},
   "outputs": [
    {
     "data": {
      "text/html": [
       "<div>\n",
       "<style scoped>\n",
       "    .dataframe tbody tr th:only-of-type {\n",
       "        vertical-align: middle;\n",
       "    }\n",
       "\n",
       "    .dataframe tbody tr th {\n",
       "        vertical-align: top;\n",
       "    }\n",
       "\n",
       "    .dataframe thead th {\n",
       "        text-align: right;\n",
       "    }\n",
       "</style>\n",
       "<table border=\"1\" class=\"dataframe\">\n",
       "  <thead>\n",
       "    <tr style=\"text-align: right;\">\n",
       "      <th></th>\n",
       "      <th>id</th>\n",
       "      <th>breed</th>\n",
       "    </tr>\n",
       "  </thead>\n",
       "  <tbody>\n",
       "    <tr>\n",
       "      <td>8</td>\n",
       "      <td>003df8b8a8b05244b1d920bb6cf451f9</td>\n",
       "      <td>3</td>\n",
       "    </tr>\n",
       "    <tr>\n",
       "      <td>201</td>\n",
       "      <td>04b5834c3a969c6308ce157c547bb313</td>\n",
       "      <td>3</td>\n",
       "    </tr>\n",
       "    <tr>\n",
       "      <td>287</td>\n",
       "      <td>06faa041b335551e3ccf3c239d006425</td>\n",
       "      <td>3</td>\n",
       "    </tr>\n",
       "    <tr>\n",
       "      <td>301</td>\n",
       "      <td>073f0821a0842917e6e97ab322bd63f2</td>\n",
       "      <td>3</td>\n",
       "    </tr>\n",
       "    <tr>\n",
       "      <td>397</td>\n",
       "      <td>0990fe6be15d9d556eac8712db3c8094</td>\n",
       "      <td>3</td>\n",
       "    </tr>\n",
       "    <tr>\n",
       "      <td>...</td>\n",
       "      <td>...</td>\n",
       "      <td>...</td>\n",
       "    </tr>\n",
       "    <tr>\n",
       "      <td>9669</td>\n",
       "      <td>f375e6363bc21dcd3cb65637c7855e9c</td>\n",
       "      <td>32</td>\n",
       "    </tr>\n",
       "    <tr>\n",
       "      <td>9708</td>\n",
       "      <td>f42afcc1fabac064a07c6a5b7ae2766e</td>\n",
       "      <td>32</td>\n",
       "    </tr>\n",
       "    <tr>\n",
       "      <td>9904</td>\n",
       "      <td>f8d48f89aaa55962d4beb853a128eac7</td>\n",
       "      <td>32</td>\n",
       "    </tr>\n",
       "    <tr>\n",
       "      <td>9961</td>\n",
       "      <td>fa26802c7a0ff2fc7dcabb9999a6c4b3</td>\n",
       "      <td>32</td>\n",
       "    </tr>\n",
       "    <tr>\n",
       "      <td>10133</td>\n",
       "      <td>fdc0556f9b32a714b56985eb99fbbbeb</td>\n",
       "      <td>32</td>\n",
       "    </tr>\n",
       "  </tbody>\n",
       "</table>\n",
       "<p>3587 rows × 2 columns</p>\n",
       "</div>"
      ],
      "text/plain": [
       "                                     id  breed\n",
       "8      003df8b8a8b05244b1d920bb6cf451f9      3\n",
       "201    04b5834c3a969c6308ce157c547bb313      3\n",
       "287    06faa041b335551e3ccf3c239d006425      3\n",
       "301    073f0821a0842917e6e97ab322bd63f2      3\n",
       "397    0990fe6be15d9d556eac8712db3c8094      3\n",
       "...                                 ...    ...\n",
       "9669   f375e6363bc21dcd3cb65637c7855e9c     32\n",
       "9708   f42afcc1fabac064a07c6a5b7ae2766e     32\n",
       "9904   f8d48f89aaa55962d4beb853a128eac7     32\n",
       "9961   fa26802c7a0ff2fc7dcabb9999a6c4b3     32\n",
       "10133  fdc0556f9b32a714b56985eb99fbbbeb     32\n",
       "\n",
       "[3587 rows x 2 columns]"
      ]
     },
     "execution_count": 6,
     "metadata": {},
     "output_type": "execute_result"
    }
   ],
   "source": [
    "encoder = preprocessing.LabelEncoder()\n",
    "train_dogs['breed'] = encoder.fit_transform(train_dogs['breed'])\n",
    "train_dogs"
   ]
  },
  {
   "cell_type": "code",
   "execution_count": 7,
   "metadata": {},
   "outputs": [
    {
     "data": {
      "text/plain": [
       "35"
      ]
     },
     "execution_count": 7,
     "metadata": {},
     "output_type": "execute_result"
    }
   ],
   "source": [
    "num_train_dogs = train_dogs['breed'].nunique()\n",
    "num_train_dogs"
   ]
  },
  {
   "cell_type": "code",
   "execution_count": 8,
   "metadata": {},
   "outputs": [
    {
     "data": {
      "text/plain": [
       "8         3\n",
       "201       3\n",
       "287       3\n",
       "301       3\n",
       "397       3\n",
       "         ..\n",
       "9669     32\n",
       "9708     32\n",
       "9904     32\n",
       "9961     32\n",
       "10133    32\n",
       "Name: breed, Length: 3587, dtype: int32"
      ]
     },
     "execution_count": 8,
     "metadata": {},
     "output_type": "execute_result"
    }
   ],
   "source": [
    "target_labels = train_dogs['breed']\n",
    "target_labels"
   ]
  },
  {
   "cell_type": "code",
   "execution_count": 9,
   "metadata": {},
   "outputs": [],
   "source": [
    "one_hot = pd.get_dummies(target_labels, sparse = True)\n",
    "one_hot_labels = np.asarray(one_hot)"
   ]
  },
  {
   "cell_type": "code",
   "execution_count": 10,
   "metadata": {},
   "outputs": [
    {
     "data": {
      "text/html": [
       "<div>\n",
       "<style scoped>\n",
       "    .dataframe tbody tr th:only-of-type {\n",
       "        vertical-align: middle;\n",
       "    }\n",
       "\n",
       "    .dataframe tbody tr th {\n",
       "        vertical-align: top;\n",
       "    }\n",
       "\n",
       "    .dataframe thead th {\n",
       "        text-align: right;\n",
       "    }\n",
       "</style>\n",
       "<table border=\"1\" class=\"dataframe\">\n",
       "  <thead>\n",
       "    <tr style=\"text-align: right;\">\n",
       "      <th></th>\n",
       "      <th>id</th>\n",
       "      <th>breed</th>\n",
       "      <th>image_path</th>\n",
       "    </tr>\n",
       "  </thead>\n",
       "  <tbody>\n",
       "    <tr>\n",
       "      <td>8</td>\n",
       "      <td>003df8b8a8b05244b1d920bb6cf451f9</td>\n",
       "      <td>3</td>\n",
       "      <td>train/003df8b8a8b05244b1d920bb6cf451f9.jpg</td>\n",
       "    </tr>\n",
       "    <tr>\n",
       "      <td>201</td>\n",
       "      <td>04b5834c3a969c6308ce157c547bb313</td>\n",
       "      <td>3</td>\n",
       "      <td>train/04b5834c3a969c6308ce157c547bb313.jpg</td>\n",
       "    </tr>\n",
       "    <tr>\n",
       "      <td>287</td>\n",
       "      <td>06faa041b335551e3ccf3c239d006425</td>\n",
       "      <td>3</td>\n",
       "      <td>train/06faa041b335551e3ccf3c239d006425.jpg</td>\n",
       "    </tr>\n",
       "    <tr>\n",
       "      <td>301</td>\n",
       "      <td>073f0821a0842917e6e97ab322bd63f2</td>\n",
       "      <td>3</td>\n",
       "      <td>train/073f0821a0842917e6e97ab322bd63f2.jpg</td>\n",
       "    </tr>\n",
       "    <tr>\n",
       "      <td>397</td>\n",
       "      <td>0990fe6be15d9d556eac8712db3c8094</td>\n",
       "      <td>3</td>\n",
       "      <td>train/0990fe6be15d9d556eac8712db3c8094.jpg</td>\n",
       "    </tr>\n",
       "  </tbody>\n",
       "</table>\n",
       "</div>"
      ],
      "text/plain": [
       "                                   id  breed  \\\n",
       "8    003df8b8a8b05244b1d920bb6cf451f9      3   \n",
       "201  04b5834c3a969c6308ce157c547bb313      3   \n",
       "287  06faa041b335551e3ccf3c239d006425      3   \n",
       "301  073f0821a0842917e6e97ab322bd63f2      3   \n",
       "397  0990fe6be15d9d556eac8712db3c8094      3   \n",
       "\n",
       "                                     image_path  \n",
       "8    train/003df8b8a8b05244b1d920bb6cf451f9.jpg  \n",
       "201  train/04b5834c3a969c6308ce157c547bb313.jpg  \n",
       "287  train/06faa041b335551e3ccf3c239d006425.jpg  \n",
       "301  train/073f0821a0842917e6e97ab322bd63f2.jpg  \n",
       "397  train/0990fe6be15d9d556eac8712db3c8094.jpg  "
      ]
     },
     "execution_count": 10,
     "metadata": {},
     "output_type": "execute_result"
    }
   ],
   "source": [
    "train_dogs['image_path'] = train_dogs.apply( lambda x: (train_folder + x[\"id\"] + \".jpg\" ), axis=1)\n",
    "train_dogs.head()"
   ]
  },
  {
   "cell_type": "code",
   "execution_count": 11,
   "metadata": {},
   "outputs": [],
   "source": [
    "train_data = np.array([img_to_array(load_img(img, target_size=(299, 299))) for img in train_dogs['image_path'].values.tolist()]).astype('float32')"
   ]
  },
  {
   "cell_type": "code",
   "execution_count": 12,
   "metadata": {},
   "outputs": [
    {
     "name": "stderr",
     "output_type": "stream",
     "text": [
      "C:\\Users\\Miko Tansingco\\Anaconda3\\lib\\site-packages\\sklearn\\utils\\__init__.py:806: DeprecationWarning: `np.int` is a deprecated alias for the builtin `int`. To silence this warning, use `int` by itself. Doing this will not modify any behavior and is safe. When replacing `np.int`, you may wish to use e.g. `np.int64` or `np.int32` to specify the precision. If you wish to review your current use, check the release note link for additional information.\n",
      "Deprecated in NumPy 1.20; for more details and guidance: https://numpy.org/devdocs/release/1.20.0-notes.html#deprecations\n",
      "  return floored.astype(np.int)\n",
      "C:\\Users\\Miko Tansingco\\Anaconda3\\lib\\site-packages\\sklearn\\utils\\__init__.py:806: DeprecationWarning: `np.int` is a deprecated alias for the builtin `int`. To silence this warning, use `int` by itself. Doing this will not modify any behavior and is safe. When replacing `np.int`, you may wish to use e.g. `np.int64` or `np.int32` to specify the precision. If you wish to review your current use, check the release note link for additional information.\n",
      "Deprecated in NumPy 1.20; for more details and guidance: https://numpy.org/devdocs/release/1.20.0-notes.html#deprecations\n",
      "  return floored.astype(np.int)\n"
     ]
    }
   ],
   "source": [
    "x_train, x_validation, y_train, y_validation = train_test_split(train_data, target_labels, test_size=0.2, stratify=np.array(target_labels), random_state=100)"
   ]
  },
  {
   "cell_type": "code",
   "execution_count": 13,
   "metadata": {},
   "outputs": [
    {
     "name": "stderr",
     "output_type": "stream",
     "text": [
      "C:\\Users\\Miko Tansingco\\Anaconda3\\lib\\site-packages\\sklearn\\utils\\__init__.py:806: DeprecationWarning: `np.int` is a deprecated alias for the builtin `int`. To silence this warning, use `int` by itself. Doing this will not modify any behavior and is safe. When replacing `np.int`, you may wish to use e.g. `np.int64` or `np.int32` to specify the precision. If you wish to review your current use, check the release note link for additional information.\n",
      "Deprecated in NumPy 1.20; for more details and guidance: https://numpy.org/devdocs/release/1.20.0-notes.html#deprecations\n",
      "  return floored.astype(np.int)\n",
      "C:\\Users\\Miko Tansingco\\Anaconda3\\lib\\site-packages\\sklearn\\utils\\__init__.py:806: DeprecationWarning: `np.int` is a deprecated alias for the builtin `int`. To silence this warning, use `int` by itself. Doing this will not modify any behavior and is safe. When replacing `np.int`, you may wish to use e.g. `np.int64` or `np.int32` to specify the precision. If you wish to review your current use, check the release note link for additional information.\n",
      "Deprecated in NumPy 1.20; for more details and guidance: https://numpy.org/devdocs/release/1.20.0-notes.html#deprecations\n",
      "  return floored.astype(np.int)\n"
     ]
    }
   ],
   "source": [
    "x_train, x_test, y_train, y_test = train_test_split(x_train, y_train, test_size=0.2, stratify=np.array(y_train), random_state=100)"
   ]
  },
  {
   "cell_type": "code",
   "execution_count": 14,
   "metadata": {},
   "outputs": [
    {
     "name": "stdout",
     "output_type": "stream",
     "text": [
      "x_train shape =  (2295, 299, 299, 3)\n",
      "x_validation shape =  (718, 299, 299, 3)\n",
      "x_test shape =  (574, 299, 299, 3)\n"
     ]
    }
   ],
   "source": [
    "print ('x_train shape = ', x_train.shape)\n",
    "print ('x_validation shape = ', x_validation.shape)\n",
    "print ('x_test shape = ', x_test.shape)"
   ]
  },
  {
   "cell_type": "code",
   "execution_count": 15,
   "metadata": {},
   "outputs": [],
   "source": [
    "y_train_cold = y_train\n",
    "y_validation_cold = y_validation\n",
    "y_test_cold = y_test"
   ]
  },
  {
   "cell_type": "code",
   "execution_count": 16,
   "metadata": {},
   "outputs": [],
   "source": [
    "y_train = pd.get_dummies(y_train.reset_index(drop=True)).as_matrix()\n",
    "y_validation = pd.get_dummies(y_validation.reset_index(drop=True)).as_matrix()\n",
    "y_test = pd.get_dummies(y_test.reset_index(drop=True)).as_matrix()"
   ]
  },
  {
   "cell_type": "code",
   "execution_count": 17,
   "metadata": {},
   "outputs": [],
   "source": [
    "train_datagen = ImageDataGenerator(rescale=1./255, \n",
    "                                   rotation_range=30, \n",
    "                                   # zoom_range = 0.3, \n",
    "                                   width_shift_range=0.2,\n",
    "                                   height_shift_range=0.2, \n",
    "                                   horizontal_flip = 'true')\n",
    "train_generator = train_datagen.flow(x_train, y_train, shuffle=False, batch_size=10, seed=10)"
   ]
  },
  {
   "cell_type": "code",
   "execution_count": 18,
   "metadata": {},
   "outputs": [],
   "source": [
    "val_datagen = ImageDataGenerator(rescale = 1./255)\n",
    "val_generator = train_datagen.flow(x_validation, y_validation, shuffle=False, batch_size=10, seed=10)"
   ]
  },
  {
   "cell_type": "code",
   "execution_count": 19,
   "metadata": {},
   "outputs": [],
   "source": [
    "base_model = InceptionV3(weights = 'imagenet', include_top = False, input_shape=(299, 299, 3))"
   ]
  },
  {
   "cell_type": "code",
   "execution_count": 20,
   "metadata": {},
   "outputs": [],
   "source": [
    "x = base_model.output\n",
    "x = GlobalAveragePooling2D()(x)"
   ]
  },
  {
   "cell_type": "code",
   "execution_count": 21,
   "metadata": {},
   "outputs": [],
   "source": [
    "x = Dense(512, activation='relu')(x)\n",
    "predictions = Dense(num_train_dogs, activation='softmax')(x)"
   ]
  },
  {
   "cell_type": "code",
   "execution_count": 22,
   "metadata": {},
   "outputs": [],
   "source": [
    "model = Model(inputs = base_model.input, outputs = predictions)"
   ]
  },
  {
   "cell_type": "code",
   "execution_count": 23,
   "metadata": {},
   "outputs": [],
   "source": [
    "for layer in base_model.layers:\n",
    "    layer.trainable = False"
   ]
  },
  {
   "cell_type": "code",
   "execution_count": 24,
   "metadata": {},
   "outputs": [],
   "source": [
    "model.compile(Adam(lr=.0001), loss='categorical_crossentropy', metrics=['accuracy'])"
   ]
  },
  {
   "cell_type": "code",
   "execution_count": 25,
   "metadata": {},
   "outputs": [
    {
     "name": "stdout",
     "output_type": "stream",
     "text": [
      "Epoch 1/10\n",
      "175/175 - 161s - loss: 1.9212 - accuracy: 0.6499 - val_loss: 0.7622 - val_accuracy: 0.8614 - 161s/epoch - 920ms/step\n",
      "Epoch 2/10\n",
      "175/175 - 165s - loss: 0.4928 - accuracy: 0.8940 - val_loss: 0.3989 - val_accuracy: 0.8932 - 165s/epoch - 943ms/step\n",
      "Epoch 3/10\n",
      "175/175 - 148s - loss: 0.3370 - accuracy: 0.9054 - val_loss: 0.3577 - val_accuracy: 0.8886 - 148s/epoch - 844ms/step\n",
      "Epoch 4/10\n",
      "175/175 - 148s - loss: 0.2724 - accuracy: 0.9221 - val_loss: 0.2923 - val_accuracy: 0.9273 - 148s/epoch - 843ms/step\n",
      "Epoch 5/10\n",
      "175/175 - 148s - loss: 0.2619 - accuracy: 0.9203 - val_loss: 0.2880 - val_accuracy: 0.9045 - 148s/epoch - 845ms/step\n",
      "Epoch 6/10\n",
      "175/175 - 149s - loss: 0.2296 - accuracy: 0.9289 - val_loss: 0.2860 - val_accuracy: 0.9045 - 149s/epoch - 853ms/step\n",
      "Epoch 7/10\n",
      "175/175 - 147s - loss: 0.2149 - accuracy: 0.9352 - val_loss: 0.2796 - val_accuracy: 0.9000 - 147s/epoch - 841ms/step\n",
      "Epoch 8/10\n",
      "175/175 - 146s - loss: 0.1949 - accuracy: 0.9444 - val_loss: 0.2793 - val_accuracy: 0.9227 - 146s/epoch - 834ms/step\n",
      "Epoch 9/10\n",
      "175/175 - 149s - loss: 0.2035 - accuracy: 0.9318 - val_loss: 0.2971 - val_accuracy: 0.9045 - 149s/epoch - 851ms/step\n",
      "Epoch 10/10\n",
      "175/175 - 147s - loss: 0.1750 - accuracy: 0.9473 - val_loss: 0.3050 - val_accuracy: 0.8977 - 147s/epoch - 841ms/step\n"
     ]
    },
    {
     "data": {
      "text/plain": [
       "<keras.callbacks.History at 0x21dd49ef088>"
      ]
     },
     "execution_count": 25,
     "metadata": {},
     "output_type": "execute_result"
    }
   ],
   "source": [
    "model.fit_generator(train_generator,\n",
    "                      steps_per_epoch = 175,\n",
    "                      validation_data = val_generator,\n",
    "                      validation_steps = 44,\n",
    "                      epochs = 10,\n",
    "                      verbose = 2)"
   ]
  },
  {
   "cell_type": "code",
   "execution_count": 26,
   "metadata": {},
   "outputs": [
    {
     "name": "stdout",
     "output_type": "stream",
     "text": [
      "18/18 [==============================] - 37s 2s/step\n",
      "0.0348\n"
     ]
    }
   ],
   "source": [
    "predictions=model.predict(x_test)\n",
    "probs = np.argmax(predictions, axis=1)\n",
    "num_correct = (probs == y_test_cold).sum()\n",
    "accuracy = num_correct/len(y_test_cold)\n",
    "print('{:.4f}'.format(accuracy.item()))"
   ]
  },
  {
   "cell_type": "code",
   "execution_count": null,
   "metadata": {},
   "outputs": [],
   "source": []
  }
 ],
 "metadata": {
  "kernelspec": {
   "display_name": "Python 3",
   "language": "python",
   "name": "python3"
  },
  "language_info": {
   "codemirror_mode": {
    "name": "ipython",
    "version": 3
   },
   "file_extension": ".py",
   "mimetype": "text/x-python",
   "name": "python",
   "nbconvert_exporter": "python",
   "pygments_lexer": "ipython3",
   "version": "3.7.4"
  }
 },
 "nbformat": 4,
 "nbformat_minor": 2
}
