{
 "cells": [
  {
   "cell_type": "code",
   "execution_count": 20,
   "metadata": {},
   "outputs": [],
   "source": [
    "import matplotlib.image as mpimg\n",
    "import cv2\n",
    "import os\n",
    "import numpy as np\n",
    "import pandas as pd\n",
    "import collections\n",
    "from tqdm import tqdm\n",
    "from matplotlib import pyplot as plt\n",
    "from random import *\n",
    "#imports for image reading\n",
    "from skimage.io import imread\n",
    "from skimage.transform import resize\n",
    "from sklearn.model_selection import train_test_split\n",
    "#imports for label encoding for classes\n",
    "from sklearn import preprocessing\n",
    "from tensorflow.keras.preprocessing.image import ImageDataGenerator\n",
    "from tensorflow.keras.models import load_model, Model\n",
    "from tensorflow.keras.optimizers import RMSprop,SGD,Adam\n",
    "from tensorflow.keras.layers import Dense, GlobalAveragePooling2D, Dropout, BatchNormalization,Flatten,GlobalMaxPooling2D\n",
    "from tensorflow.keras.applications.resnet_v2 import ResNet50V2, preprocess_input\n",
    "from keras.applications.inception_v3 import InceptionV3\n",
    "from keras.applications.inception_resnet_v2 import InceptionResNetV2"
   ]
  },
  {
   "cell_type": "code",
   "execution_count": 4,
   "metadata": {},
   "outputs": [],
   "source": [
    "train_dogs = pd.read_csv('labels.csv')"
   ]
  },
  {
   "cell_type": "code",
   "execution_count": 5,
   "metadata": {},
   "outputs": [],
   "source": [
    "train_folder = 'train/'"
   ]
  },
  {
   "cell_type": "code",
   "execution_count": 6,
   "metadata": {},
   "outputs": [
    {
     "data": {
      "text/html": [
       "<div>\n",
       "<style scoped>\n",
       "    .dataframe tbody tr th:only-of-type {\n",
       "        vertical-align: middle;\n",
       "    }\n",
       "\n",
       "    .dataframe tbody tr th {\n",
       "        vertical-align: top;\n",
       "    }\n",
       "\n",
       "    .dataframe thead th {\n",
       "        text-align: right;\n",
       "    }\n",
       "</style>\n",
       "<table border=\"1\" class=\"dataframe\">\n",
       "  <thead>\n",
       "    <tr style=\"text-align: right;\">\n",
       "      <th></th>\n",
       "      <th>id</th>\n",
       "      <th>breed</th>\n",
       "    </tr>\n",
       "  </thead>\n",
       "  <tbody>\n",
       "    <tr>\n",
       "      <th>8</th>\n",
       "      <td>003df8b8a8b05244b1d920bb6cf451f9</td>\n",
       "      <td>basenji</td>\n",
       "    </tr>\n",
       "    <tr>\n",
       "      <th>201</th>\n",
       "      <td>04b5834c3a969c6308ce157c547bb313</td>\n",
       "      <td>basenji</td>\n",
       "    </tr>\n",
       "    <tr>\n",
       "      <th>287</th>\n",
       "      <td>06faa041b335551e3ccf3c239d006425</td>\n",
       "      <td>basenji</td>\n",
       "    </tr>\n",
       "    <tr>\n",
       "      <th>301</th>\n",
       "      <td>073f0821a0842917e6e97ab322bd63f2</td>\n",
       "      <td>basenji</td>\n",
       "    </tr>\n",
       "    <tr>\n",
       "      <th>397</th>\n",
       "      <td>0990fe6be15d9d556eac8712db3c8094</td>\n",
       "      <td>basenji</td>\n",
       "    </tr>\n",
       "    <tr>\n",
       "      <th>...</th>\n",
       "      <td>...</td>\n",
       "      <td>...</td>\n",
       "    </tr>\n",
       "    <tr>\n",
       "      <th>9669</th>\n",
       "      <td>f375e6363bc21dcd3cb65637c7855e9c</td>\n",
       "      <td>silky_terrier</td>\n",
       "    </tr>\n",
       "    <tr>\n",
       "      <th>9708</th>\n",
       "      <td>f42afcc1fabac064a07c6a5b7ae2766e</td>\n",
       "      <td>silky_terrier</td>\n",
       "    </tr>\n",
       "    <tr>\n",
       "      <th>9904</th>\n",
       "      <td>f8d48f89aaa55962d4beb853a128eac7</td>\n",
       "      <td>silky_terrier</td>\n",
       "    </tr>\n",
       "    <tr>\n",
       "      <th>9961</th>\n",
       "      <td>fa26802c7a0ff2fc7dcabb9999a6c4b3</td>\n",
       "      <td>silky_terrier</td>\n",
       "    </tr>\n",
       "    <tr>\n",
       "      <th>10133</th>\n",
       "      <td>fdc0556f9b32a714b56985eb99fbbbeb</td>\n",
       "      <td>silky_terrier</td>\n",
       "    </tr>\n",
       "  </tbody>\n",
       "</table>\n",
       "<p>3587 rows × 2 columns</p>\n",
       "</div>"
      ],
      "text/plain": [
       "                                     id          breed\n",
       "8      003df8b8a8b05244b1d920bb6cf451f9        basenji\n",
       "201    04b5834c3a969c6308ce157c547bb313        basenji\n",
       "287    06faa041b335551e3ccf3c239d006425        basenji\n",
       "301    073f0821a0842917e6e97ab322bd63f2        basenji\n",
       "397    0990fe6be15d9d556eac8712db3c8094        basenji\n",
       "...                                 ...            ...\n",
       "9669   f375e6363bc21dcd3cb65637c7855e9c  silky_terrier\n",
       "9708   f42afcc1fabac064a07c6a5b7ae2766e  silky_terrier\n",
       "9904   f8d48f89aaa55962d4beb853a128eac7  silky_terrier\n",
       "9961   fa26802c7a0ff2fc7dcabb9999a6c4b3  silky_terrier\n",
       "10133  fdc0556f9b32a714b56985eb99fbbbeb  silky_terrier\n",
       "\n",
       "[3587 rows x 2 columns]"
      ]
     },
     "execution_count": 6,
     "metadata": {},
     "output_type": "execute_result"
    }
   ],
   "source": [
    "new_data = pd.DataFrame()\n",
    "for i in train_dogs['breed'].unique():\n",
    "    length = len(train_dogs[train_dogs['breed'] == i])\n",
    "    if length >= 90:\n",
    "        new_data = new_data.append(train_dogs[train_dogs['breed'] == i])\n",
    "new_data"
   ]
  },
  {
   "cell_type": "code",
   "execution_count": 7,
   "metadata": {},
   "outputs": [
    {
     "data": {
      "text/html": [
       "<div>\n",
       "<style scoped>\n",
       "    .dataframe tbody tr th:only-of-type {\n",
       "        vertical-align: middle;\n",
       "    }\n",
       "\n",
       "    .dataframe tbody tr th {\n",
       "        vertical-align: top;\n",
       "    }\n",
       "\n",
       "    .dataframe thead th {\n",
       "        text-align: right;\n",
       "    }\n",
       "</style>\n",
       "<table border=\"1\" class=\"dataframe\">\n",
       "  <thead>\n",
       "    <tr style=\"text-align: right;\">\n",
       "      <th></th>\n",
       "      <th>id</th>\n",
       "      <th>breed</th>\n",
       "    </tr>\n",
       "  </thead>\n",
       "  <tbody>\n",
       "    <tr>\n",
       "      <th>8</th>\n",
       "      <td>003df8b8a8b05244b1d920bb6cf451f9</td>\n",
       "      <td>basenji</td>\n",
       "    </tr>\n",
       "    <tr>\n",
       "      <th>201</th>\n",
       "      <td>04b5834c3a969c6308ce157c547bb313</td>\n",
       "      <td>basenji</td>\n",
       "    </tr>\n",
       "    <tr>\n",
       "      <th>287</th>\n",
       "      <td>06faa041b335551e3ccf3c239d006425</td>\n",
       "      <td>basenji</td>\n",
       "    </tr>\n",
       "    <tr>\n",
       "      <th>301</th>\n",
       "      <td>073f0821a0842917e6e97ab322bd63f2</td>\n",
       "      <td>basenji</td>\n",
       "    </tr>\n",
       "    <tr>\n",
       "      <th>397</th>\n",
       "      <td>0990fe6be15d9d556eac8712db3c8094</td>\n",
       "      <td>basenji</td>\n",
       "    </tr>\n",
       "    <tr>\n",
       "      <th>...</th>\n",
       "      <td>...</td>\n",
       "      <td>...</td>\n",
       "    </tr>\n",
       "    <tr>\n",
       "      <th>9669</th>\n",
       "      <td>f375e6363bc21dcd3cb65637c7855e9c</td>\n",
       "      <td>silky_terrier</td>\n",
       "    </tr>\n",
       "    <tr>\n",
       "      <th>9708</th>\n",
       "      <td>f42afcc1fabac064a07c6a5b7ae2766e</td>\n",
       "      <td>silky_terrier</td>\n",
       "    </tr>\n",
       "    <tr>\n",
       "      <th>9904</th>\n",
       "      <td>f8d48f89aaa55962d4beb853a128eac7</td>\n",
       "      <td>silky_terrier</td>\n",
       "    </tr>\n",
       "    <tr>\n",
       "      <th>9961</th>\n",
       "      <td>fa26802c7a0ff2fc7dcabb9999a6c4b3</td>\n",
       "      <td>silky_terrier</td>\n",
       "    </tr>\n",
       "    <tr>\n",
       "      <th>10133</th>\n",
       "      <td>fdc0556f9b32a714b56985eb99fbbbeb</td>\n",
       "      <td>silky_terrier</td>\n",
       "    </tr>\n",
       "  </tbody>\n",
       "</table>\n",
       "<p>3587 rows × 2 columns</p>\n",
       "</div>"
      ],
      "text/plain": [
       "                                     id          breed\n",
       "8      003df8b8a8b05244b1d920bb6cf451f9        basenji\n",
       "201    04b5834c3a969c6308ce157c547bb313        basenji\n",
       "287    06faa041b335551e3ccf3c239d006425        basenji\n",
       "301    073f0821a0842917e6e97ab322bd63f2        basenji\n",
       "397    0990fe6be15d9d556eac8712db3c8094        basenji\n",
       "...                                 ...            ...\n",
       "9669   f375e6363bc21dcd3cb65637c7855e9c  silky_terrier\n",
       "9708   f42afcc1fabac064a07c6a5b7ae2766e  silky_terrier\n",
       "9904   f8d48f89aaa55962d4beb853a128eac7  silky_terrier\n",
       "9961   fa26802c7a0ff2fc7dcabb9999a6c4b3  silky_terrier\n",
       "10133  fdc0556f9b32a714b56985eb99fbbbeb  silky_terrier\n",
       "\n",
       "[3587 rows x 2 columns]"
      ]
     },
     "execution_count": 7,
     "metadata": {},
     "output_type": "execute_result"
    }
   ],
   "source": [
    "train_dogs = new_data\n",
    "train_dogs"
   ]
  },
  {
   "cell_type": "markdown",
   "metadata": {},
   "source": [
    "<h2> Preprocess labels.csv to add the id + .png file to be used later for loading"
   ]
  },
  {
   "cell_type": "code",
   "execution_count": 8,
   "metadata": {},
   "outputs": [
    {
     "data": {
      "text/html": [
       "<div>\n",
       "<style scoped>\n",
       "    .dataframe tbody tr th:only-of-type {\n",
       "        vertical-align: middle;\n",
       "    }\n",
       "\n",
       "    .dataframe tbody tr th {\n",
       "        vertical-align: top;\n",
       "    }\n",
       "\n",
       "    .dataframe thead th {\n",
       "        text-align: right;\n",
       "    }\n",
       "</style>\n",
       "<table border=\"1\" class=\"dataframe\">\n",
       "  <thead>\n",
       "    <tr style=\"text-align: right;\">\n",
       "      <th></th>\n",
       "      <th>id</th>\n",
       "      <th>breed</th>\n",
       "      <th>img_file</th>\n",
       "    </tr>\n",
       "  </thead>\n",
       "  <tbody>\n",
       "    <tr>\n",
       "      <th>8</th>\n",
       "      <td>003df8b8a8b05244b1d920bb6cf451f9</td>\n",
       "      <td>basenji</td>\n",
       "      <td>003df8b8a8b05244b1d920bb6cf451f9.jpg</td>\n",
       "    </tr>\n",
       "    <tr>\n",
       "      <th>201</th>\n",
       "      <td>04b5834c3a969c6308ce157c547bb313</td>\n",
       "      <td>basenji</td>\n",
       "      <td>04b5834c3a969c6308ce157c547bb313.jpg</td>\n",
       "    </tr>\n",
       "    <tr>\n",
       "      <th>287</th>\n",
       "      <td>06faa041b335551e3ccf3c239d006425</td>\n",
       "      <td>basenji</td>\n",
       "      <td>06faa041b335551e3ccf3c239d006425.jpg</td>\n",
       "    </tr>\n",
       "    <tr>\n",
       "      <th>301</th>\n",
       "      <td>073f0821a0842917e6e97ab322bd63f2</td>\n",
       "      <td>basenji</td>\n",
       "      <td>073f0821a0842917e6e97ab322bd63f2.jpg</td>\n",
       "    </tr>\n",
       "    <tr>\n",
       "      <th>397</th>\n",
       "      <td>0990fe6be15d9d556eac8712db3c8094</td>\n",
       "      <td>basenji</td>\n",
       "      <td>0990fe6be15d9d556eac8712db3c8094.jpg</td>\n",
       "    </tr>\n",
       "    <tr>\n",
       "      <th>...</th>\n",
       "      <td>...</td>\n",
       "      <td>...</td>\n",
       "      <td>...</td>\n",
       "    </tr>\n",
       "    <tr>\n",
       "      <th>9669</th>\n",
       "      <td>f375e6363bc21dcd3cb65637c7855e9c</td>\n",
       "      <td>silky_terrier</td>\n",
       "      <td>f375e6363bc21dcd3cb65637c7855e9c.jpg</td>\n",
       "    </tr>\n",
       "    <tr>\n",
       "      <th>9708</th>\n",
       "      <td>f42afcc1fabac064a07c6a5b7ae2766e</td>\n",
       "      <td>silky_terrier</td>\n",
       "      <td>f42afcc1fabac064a07c6a5b7ae2766e.jpg</td>\n",
       "    </tr>\n",
       "    <tr>\n",
       "      <th>9904</th>\n",
       "      <td>f8d48f89aaa55962d4beb853a128eac7</td>\n",
       "      <td>silky_terrier</td>\n",
       "      <td>f8d48f89aaa55962d4beb853a128eac7.jpg</td>\n",
       "    </tr>\n",
       "    <tr>\n",
       "      <th>9961</th>\n",
       "      <td>fa26802c7a0ff2fc7dcabb9999a6c4b3</td>\n",
       "      <td>silky_terrier</td>\n",
       "      <td>fa26802c7a0ff2fc7dcabb9999a6c4b3.jpg</td>\n",
       "    </tr>\n",
       "    <tr>\n",
       "      <th>10133</th>\n",
       "      <td>fdc0556f9b32a714b56985eb99fbbbeb</td>\n",
       "      <td>silky_terrier</td>\n",
       "      <td>fdc0556f9b32a714b56985eb99fbbbeb.jpg</td>\n",
       "    </tr>\n",
       "  </tbody>\n",
       "</table>\n",
       "<p>3587 rows × 3 columns</p>\n",
       "</div>"
      ],
      "text/plain": [
       "                                     id          breed  \\\n",
       "8      003df8b8a8b05244b1d920bb6cf451f9        basenji   \n",
       "201    04b5834c3a969c6308ce157c547bb313        basenji   \n",
       "287    06faa041b335551e3ccf3c239d006425        basenji   \n",
       "301    073f0821a0842917e6e97ab322bd63f2        basenji   \n",
       "397    0990fe6be15d9d556eac8712db3c8094        basenji   \n",
       "...                                 ...            ...   \n",
       "9669   f375e6363bc21dcd3cb65637c7855e9c  silky_terrier   \n",
       "9708   f42afcc1fabac064a07c6a5b7ae2766e  silky_terrier   \n",
       "9904   f8d48f89aaa55962d4beb853a128eac7  silky_terrier   \n",
       "9961   fa26802c7a0ff2fc7dcabb9999a6c4b3  silky_terrier   \n",
       "10133  fdc0556f9b32a714b56985eb99fbbbeb  silky_terrier   \n",
       "\n",
       "                                   img_file  \n",
       "8      003df8b8a8b05244b1d920bb6cf451f9.jpg  \n",
       "201    04b5834c3a969c6308ce157c547bb313.jpg  \n",
       "287    06faa041b335551e3ccf3c239d006425.jpg  \n",
       "301    073f0821a0842917e6e97ab322bd63f2.jpg  \n",
       "397    0990fe6be15d9d556eac8712db3c8094.jpg  \n",
       "...                                     ...  \n",
       "9669   f375e6363bc21dcd3cb65637c7855e9c.jpg  \n",
       "9708   f42afcc1fabac064a07c6a5b7ae2766e.jpg  \n",
       "9904   f8d48f89aaa55962d4beb853a128eac7.jpg  \n",
       "9961   fa26802c7a0ff2fc7dcabb9999a6c4b3.jpg  \n",
       "10133  fdc0556f9b32a714b56985eb99fbbbeb.jpg  \n",
       "\n",
       "[3587 rows x 3 columns]"
      ]
     },
     "execution_count": 8,
     "metadata": {},
     "output_type": "execute_result"
    }
   ],
   "source": [
    "train_dogs['img_file'] = train_dogs['id'].apply(lambda x: x + \".jpg\")\n",
    "train_dogs"
   ]
  },
  {
   "cell_type": "markdown",
   "metadata": {},
   "source": [
    "<h2>Initialize variables"
   ]
  },
  {
   "cell_type": "code",
   "execution_count": 9,
   "metadata": {},
   "outputs": [],
   "source": [
    "num_breeds = 35\n",
    "im_size = 299\n",
    "batch_size = 64\n",
    "encoder = preprocessing.LabelEncoder()"
   ]
  },
  {
   "cell_type": "markdown",
   "metadata": {},
   "source": [
    "<h2>Using the img files in labels.csv load the image and preprocess using built in preprocess_input to match the requirements of imagenet "
   ]
  },
  {
   "cell_type": "code",
   "execution_count": 11,
   "metadata": {},
   "outputs": [],
   "source": [
    "#create a numpy array of the shape\n",
    "#(number of dataset records, image size , image size, 3 for rgb channel ayer)\n",
    "#this will be input for model\n",
    "train_x = np.zeros((len(new_data), im_size, im_size, 3), dtype='float32')\n",
    "train_file = 'train/' \n",
    "#iterate over img_file column of our dataset\n",
    "for i, img_id in enumerate(new_data['img_file']):\n",
    "  #read the image file and convert into numeric format\n",
    "  #resize all images to one dimension i.e. 224x224\n",
    "  #we will get array with the shape of\n",
    "  # (224,224,3) where 3 is the RGB channels layers\n",
    "    img = cv2.resize(cv2.imread(train_file+img_id,cv2.IMREAD_COLOR),((im_size,im_size)))\n",
    "  #scale array into the range of -1 to 1.\n",
    "  #preprocess the array and expand its dimension on the axis 0 \n",
    "    img_array = preprocess_input(np.expand_dims(np.array(img[...,::-1].astype(np.float32)).copy(), axis=0))\n",
    "  #update the train_x variable with new element\n",
    "    train_x[i] = img_array"
   ]
  },
  {
   "cell_type": "markdown",
   "metadata": {},
   "source": [
    "<h3>label encode classes "
   ]
  },
  {
   "cell_type": "code",
   "execution_count": 12,
   "metadata": {},
   "outputs": [],
   "source": [
    "#This will be the target for the model.\n",
    "#convert breed names into numerical format\n",
    "train_y = encoder.fit_transform(new_data[\"breed\"].values)"
   ]
  },
  {
   "cell_type": "code",
   "execution_count": 13,
   "metadata": {},
   "outputs": [
    {
     "data": {
      "text/plain": [
       "array([ 3,  3,  3, ..., 32, 32, 32])"
      ]
     },
     "execution_count": 13,
     "metadata": {},
     "output_type": "execute_result"
    }
   ],
   "source": [
    "train_y"
   ]
  },
  {
   "cell_type": "code",
   "execution_count": 14,
   "metadata": {},
   "outputs": [
    {
     "name": "stdout",
     "output_type": "stream",
     "text": [
      "training data: ( (2869, 299, 299, 3) , (2869,) )\n",
      "test data: ( (718, 299, 299, 3) , (718,) )\n"
     ]
    }
   ],
   "source": [
    "x_train, x_test, y_train, y_test = train_test_split(train_x,train_y,test_size=0.2,random_state=42,stratify=train_y)\n",
    "print(\"training data: (\",x_train.shape, \",\",y_train.shape,\")\")\n",
    "print(\"test data: (\",x_test.shape, \",\",y_test.shape,\")\")"
   ]
  },
  {
   "cell_type": "code",
   "execution_count": 15,
   "metadata": {},
   "outputs": [
    {
     "name": "stdout",
     "output_type": "stream",
     "text": [
      "training data: ( (1721, 299, 299, 3) , (1721,) )\n",
      "test data: ( (1148, 299, 299, 3) , (1148,) )\n"
     ]
    }
   ],
   "source": [
    "x_train, x_val, y_train, y_val = train_test_split(x_train,y_train,test_size=0.4,random_state=42,stratify=y_train)\n",
    "print(\"training data: (\",x_train.shape, \",\",y_train.shape,\")\")\n",
    "print(\"test data: (\",x_val.shape, \",\",y_val.shape,\")\")"
   ]
  },
  {
   "cell_type": "code",
   "execution_count": 16,
   "metadata": {},
   "outputs": [],
   "source": [
    "train_datagen = ImageDataGenerator(rotation_range=45,\n",
    "                                   width_shift_range=0.2,\n",
    "                                   height_shift_range=0.2,\n",
    "                                   shear_range=0.2,\n",
    "                                   zoom_range=0.25,\n",
    "                                   horizontal_flip=True,\n",
    "                                   fill_mode='nearest')\n",
    " \n",
    "#generate images for training sets \n",
    "train_generator = train_datagen.flow(x_train, \n",
    "                                     y_train, \n",
    "                                     batch_size=batch_size)\n",
    " \n",
    "#same process for Testing sets also by declaring the instance\n",
    "test_datagen = ImageDataGenerator()\n",
    " \n",
    "test_generator = test_datagen.flow(x_val, \n",
    "                                     y_val, \n",
    "                                     batch_size=batch_size)"
   ]
  },
  {
   "cell_type": "code",
   "execution_count": 17,
   "metadata": {},
   "outputs": [
    {
     "name": "stdout",
     "output_type": "stream",
     "text": [
      "Downloading data from https://storage.googleapis.com/tensorflow/keras-applications/inception_v3/inception_v3_weights_tf_dim_ordering_tf_kernels_notop.h5\n",
      "87916544/87910968 [==============================] - 37s 0us/step\n"
     ]
    }
   ],
   "source": [
    "base_model = InceptionV3(weights = 'imagenet', include_top = False, input_shape=(299, 299, 3))"
   ]
  },
  {
   "cell_type": "code",
   "execution_count": 18,
   "metadata": {},
   "outputs": [],
   "source": [
    "for layer in base_model.layers:\n",
    "    layer.trainable = False\n",
    "x = base_model.output\n",
    "x = GlobalAveragePooling2D()(x)\n",
    "x = Dense(512, activation='relu')(x)\n",
    "predictions = Dense(num_breeds, activation='softmax')(x)\n",
    "model = Model(inputs = base_model.input, outputs = predictions)"
   ]
  },
  {
   "cell_type": "code",
   "execution_count": 21,
   "metadata": {},
   "outputs": [],
   "source": [
    "model.compile(Adam(lr=.0001), loss='sparse_categorical_crossentropy', metrics=['accuracy'])"
   ]
  },
  {
   "cell_type": "code",
   "execution_count": 22,
   "metadata": {},
   "outputs": [
    {
     "name": "stdout",
     "output_type": "stream",
     "text": [
      "Epoch 1/10\n",
      "26/26 [==============================] - 121s 5s/step - loss: 3.1308 - accuracy: 0.3138 - val_loss: 2.4228 - val_accuracy: 0.7831\n",
      "Epoch 2/10\n",
      "26/26 [==============================] - 121s 5s/step - loss: 1.9751 - accuracy: 0.7767 - val_loss: 1.3071 - val_accuracy: 0.8952\n",
      "Epoch 3/10\n",
      "26/26 [==============================] - 123s 5s/step - loss: 1.1048 - accuracy: 0.8588 - val_loss: 0.6694 - val_accuracy: 0.9329\n",
      "Epoch 4/10\n",
      "26/26 [==============================] - 121s 5s/step - loss: 0.6706 - accuracy: 0.8932 - val_loss: 0.4207 - val_accuracy: 0.9421\n",
      "Epoch 5/10\n",
      "26/26 [==============================] - 122s 5s/step - loss: 0.5158 - accuracy: 0.8944 - val_loss: 0.3280 - val_accuracy: 0.9412\n",
      "Epoch 6/10\n",
      "26/26 [==============================] - 121s 5s/step - loss: 0.4232 - accuracy: 0.9040 - val_loss: 0.2662 - val_accuracy: 0.9467\n",
      "Epoch 7/10\n",
      "26/26 [==============================] - 122s 5s/step - loss: 0.3603 - accuracy: 0.9161 - val_loss: 0.2317 - val_accuracy: 0.9586\n",
      "Epoch 8/10\n",
      "26/26 [==============================] - 128s 5s/step - loss: 0.3465 - accuracy: 0.9155 - val_loss: 0.2158 - val_accuracy: 0.9494\n",
      "Epoch 9/10\n",
      "26/26 [==============================] - 124s 5s/step - loss: 0.3109 - accuracy: 0.9173 - val_loss: 0.2033 - val_accuracy: 0.9531\n",
      "Epoch 10/10\n",
      "26/26 [==============================] - 124s 5s/step - loss: 0.2902 - accuracy: 0.9179 - val_loss: 0.1935 - val_accuracy: 0.9550\n"
     ]
    }
   ],
   "source": [
    "epochs=10\n",
    "hist = model.fit(train_generator,\n",
    "                 steps_per_epoch= x_train.shape[0] // batch_size,\n",
    "                 epochs= epochs,\n",
    "                 validation_data= test_generator,\n",
    "                 validation_steps= x_val.shape[0] // batch_size)"
   ]
  },
  {
   "cell_type": "code",
   "execution_count": 23,
   "metadata": {},
   "outputs": [
    {
     "name": "stdout",
     "output_type": "stream",
     "text": [
      "0.9666\n"
     ]
    }
   ],
   "source": [
    "predictions=model.predict(x_test)\n",
    "probs = np.argmax(predictions, axis=1)\n",
    "num_correct = (probs == y_test).sum()\n",
    "accuracy = num_correct/len(y_test)\n",
    "print('{:.4f}'.format(accuracy.item()))"
   ]
  },
  {
   "cell_type": "code",
   "execution_count": null,
   "metadata": {},
   "outputs": [],
   "source": []
  }
 ],
 "metadata": {
  "kernelspec": {
   "display_name": "Python 3",
   "language": "python",
   "name": "python3"
  },
  "language_info": {
   "codemirror_mode": {
    "name": "ipython",
    "version": 3
   },
   "file_extension": ".py",
   "mimetype": "text/x-python",
   "name": "python",
   "nbconvert_exporter": "python",
   "pygments_lexer": "ipython3",
   "version": "3.7.4"
  }
 },
 "nbformat": 4,
 "nbformat_minor": 2
}
